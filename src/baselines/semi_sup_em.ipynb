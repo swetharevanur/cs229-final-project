{
 "cells": [
  {
   "cell_type": "markdown",
   "metadata": {},
   "source": [
    "# Semi-Supervised EM Algorithm to Cluster Social Network \n",
    "### By Swetha Revanur and Keanu Spies\n",
    "\n",
    "In this notebook we present a semi-supervised EM approach that aims to cluster posts from a social network into high risk and low risk for being drawn into sex work."
   ]
  },
  {
   "cell_type": "code",
   "execution_count": 35,
   "metadata": {},
   "outputs": [],
   "source": [
    "import matplotlib.pyplot as plt\n",
    "import numpy as np\n",
    "import os\n",
    "import pickle\n",
    "import pandas as pd\n",
    "\n",
    "np.random.seed(648)\n",
    "\n",
    "K = 2           # Number of Gaussians in the mixture model\n",
    "NUM_TRIALS = 3  # Number of trials to run (can be adjusted for debugging)\n",
    "UNLABELED = -1  # Cluster label for unlabeled data points (do not change)d\n",
    "EPS = 1e-8"
   ]
  },
  {
   "cell_type": "markdown",
   "metadata": {},
   "source": [
    "## Setup and Helpers"
   ]
  },
  {
   "cell_type": "code",
   "execution_count": 36,
   "metadata": {},
   "outputs": [],
   "source": [
    "def load_dataset(path):\n",
    "    df = pd.read_pickle(path)\n",
    "    \n",
    "    # list of friends cannot be handeled by em algorithm\n",
    "    df = df.drop('friends_id_list', axis=1)\n",
    "    \n",
    "    # seperate out labeled and unlabeled data\n",
    "    labeled_df = df[df['risk'].notnull()]\n",
    "    unlabeled_df = df[df['risk'].isnull()]\n",
    "    \n",
    "    # labels\n",
    "    y_tilde = labeled_df['risk'].values\n",
    "\n",
    "    # extract datasets \n",
    "    labeled_df= labeled_df.drop('risk', axis=1)\n",
    "    unlabeled_df = unlabeled_df.drop('risk', axis=1)\n",
    "    X_tilde = labeled_df.values\n",
    "    X = unlabeled_df.values\n",
    "    \n",
    "    return X, X_tilde, y_tilde\n",
    "\n",
    "def plot_gmm_preds(x, z, with_supervision, plot_id):\n",
    "    pass\n",
    "\n",
    "# The gaussian PDF helper\n",
    "def gaussian(x, phi, mu, sigma, n):\n",
    "    try:\n",
    "        sigma_inv = np.linalg.inv(sigma)\n",
    "    except:\n",
    "        sigma_inv = np.linalg.pinv(sigma)\n",
    "    det = (np.sqrt(np.linalg.det(sigma)+ EPS)*(2*np.pi)**(n/2))\n",
    "    expon = np.exp(-0.5*(x - mu).T.dot(sigma_inv).dot(x - mu))\n",
    "    return (expon/det)*phi"
   ]
  },
  {
   "cell_type": "markdown",
   "metadata": {},
   "source": [
    "## Semi-Supervised EM Algorithm"
   ]
  },
  {
   "cell_type": "code",
   "execution_count": 37,
   "metadata": {},
   "outputs": [],
   "source": [
    "def run_semi_supervised_em(x, x_tilde, z, w, phi, mu, sigma):\n",
    "    \n",
    "    alpha = 20.  # Weight for the labeled examples\n",
    "    eps = 1e-3   # Convergence threshold\n",
    "    max_iter = 1000\n",
    "    it = 0\n",
    "    ll = prev_ll = None\n",
    "    \n",
    "    m, n = x.shape\n",
    "    mt, nt = x_tilde.shape\n",
    "    \n",
    "    while it < max_iter and (prev_ll is None or np.abs(ll - prev_ll) >= eps):\n",
    "        print(it)\n",
    "        prev_ll = ll\n",
    "        print(\"In ESTEP\")\n",
    "        # (1) E-step: Update your estimates in w\n",
    "        for i in range(m):\n",
    "            sum_ = sum(gaussian(x[i], phi[l], mu[l], sigma[l], n) for l in range(K))\n",
    "            for j in range(K):\n",
    "                w[i][j] = gaussian(x[i], phi[j], mu[j], sigma[j], n)/sum_\n",
    "\n",
    "        print(\"In MSTEP\")\n",
    "        # (2) M-step: Update the model parameters phi, mu, and sigma\n",
    "        sum_zit = np.zeros(K)\n",
    "        for j in range(K):\n",
    "            for i in range(mt):\n",
    "                if z[i] == j:\n",
    "                    sum_zit[j] += alpha\n",
    "\n",
    "        mu_tilde_num = np.zeros((K, n))\n",
    "        for j in range(K):\n",
    "            for i in range(mt):\n",
    "                if z[i] == j:\n",
    "                    print(type(mu_tilde_num))\n",
    "                    print(type(x_tilde))\n",
    "                    mu_tilde_num[j, :] += alpha*x_tilde[i]\n",
    "                    \n",
    "        w_sum = np.sum(w, axis = 0)\n",
    "        w_z_sum = w_sum + sum_zit\n",
    "\n",
    "        mu = ((np.matmul(x.T, w) + mu_tilde_num.T)/w_z_sum).T\n",
    "        phi = w_z_sum/(m + alpha*mt)\n",
    "        sum_ =  w_sum + sum_zit\n",
    "        \n",
    "        \n",
    "        for j in range(K):\n",
    "            inner_sum = np.zeros_like(sigma[0])\n",
    "            for i in range(m):\n",
    "                inner_sum += w[i][j]*np.outer(x[i] - mu[j], x[i] - mu[j])\n",
    "            for i in range(mt):\n",
    "                if z[i] == j:\n",
    "                    inner_sum += alpha*np.outer(x_tilde[i] - mu[j], x_tilde[i] - mu[j])\n",
    "            sigma[j] = inner_sum/w_z_sum[j]\n",
    "        \n",
    "        print(\"In LL\")\n",
    "        # (3) Compute the log-likelihood of the data to check for convergence.\n",
    "        ll = 0\n",
    "        for i in range(m):\n",
    "            inner_sum = 0\n",
    "            for j in range(K):\n",
    "                inner_sum += gaussian(x[i], phi[j], mu[j], sigma[j], n)\n",
    "            ll += np.log(inner_sum)\n",
    "\n",
    "        if it % 10 == 0: print(ll, it)\n",
    "        it += 1\n",
    "    print(\"It: %d\"%it)\n",
    "    return w"
   ]
  },
  {
   "cell_type": "markdown",
   "metadata": {},
   "source": [
    "## Run SSEM"
   ]
  },
  {
   "cell_type": "code",
   "execution_count": 38,
   "metadata": {},
   "outputs": [
    {
     "name": "stdout",
     "output_type": "stream",
     "text": [
      "0\n",
      "In ESTEP\n"
     ]
    },
    {
     "name": "stderr",
     "output_type": "stream",
     "text": [
      "/usr/local/Cellar/ipython/6.4.0/libexec/vendor/lib/python3.6/site-packages/ipykernel_launcher.py:20: RuntimeWarning: invalid value encountered in double_scalars\n"
     ]
    },
    {
     "name": "stdout",
     "output_type": "stream",
     "text": [
      "In MSTEP\n",
      "<class 'numpy.ndarray'>\n",
      "<class 'numpy.ndarray'>\n"
     ]
    },
    {
     "ename": "TypeError",
     "evalue": "ufunc 'add' output (typecode 'O') could not be coerced to provided output parameter (typecode 'd') according to the casting rule ''same_kind''",
     "output_type": "error",
     "traceback": [
      "\u001b[0;31m---------------------------------------------------------------------------\u001b[0m",
      "\u001b[0;31mTypeError\u001b[0m                                 Traceback (most recent call last)",
      "\u001b[0;32m<ipython-input-38-d16b21c4c49e>\u001b[0m in \u001b[0;36m<module>\u001b[0;34m()\u001b[0m\n\u001b[1;32m     19\u001b[0m \u001b[0;34m\u001b[0m\u001b[0m\n\u001b[1;32m     20\u001b[0m \u001b[0;31m# run the SSEM algorithm\u001b[0m\u001b[0;34m\u001b[0m\u001b[0;34m\u001b[0m\u001b[0m\n\u001b[0;32m---> 21\u001b[0;31m \u001b[0mw\u001b[0m \u001b[0;34m=\u001b[0m \u001b[0mrun_semi_supervised_em\u001b[0m\u001b[0;34m(\u001b[0m\u001b[0mx\u001b[0m\u001b[0;34m,\u001b[0m \u001b[0mx_tilde\u001b[0m\u001b[0;34m,\u001b[0m \u001b[0mz\u001b[0m\u001b[0;34m,\u001b[0m \u001b[0mw\u001b[0m\u001b[0;34m,\u001b[0m \u001b[0mphi\u001b[0m\u001b[0;34m,\u001b[0m \u001b[0mmu\u001b[0m\u001b[0;34m,\u001b[0m \u001b[0msigma\u001b[0m\u001b[0;34m)\u001b[0m\u001b[0;34m\u001b[0m\u001b[0m\n\u001b[0m",
      "\u001b[0;32m<ipython-input-37-e199bd26962a>\u001b[0m in \u001b[0;36mrun_semi_supervised_em\u001b[0;34m(x, x_tilde, z, w, phi, mu, sigma)\u001b[0m\n\u001b[1;32m     34\u001b[0m                     \u001b[0mprint\u001b[0m\u001b[0;34m(\u001b[0m\u001b[0mtype\u001b[0m\u001b[0;34m(\u001b[0m\u001b[0mmu_tilde_num\u001b[0m\u001b[0;34m)\u001b[0m\u001b[0;34m)\u001b[0m\u001b[0;34m\u001b[0m\u001b[0m\n\u001b[1;32m     35\u001b[0m                     \u001b[0mprint\u001b[0m\u001b[0;34m(\u001b[0m\u001b[0mtype\u001b[0m\u001b[0;34m(\u001b[0m\u001b[0mx_tilde\u001b[0m\u001b[0;34m)\u001b[0m\u001b[0;34m)\u001b[0m\u001b[0;34m\u001b[0m\u001b[0m\n\u001b[0;32m---> 36\u001b[0;31m                     \u001b[0mmu_tilde_num\u001b[0m\u001b[0;34m[\u001b[0m\u001b[0mj\u001b[0m\u001b[0;34m,\u001b[0m \u001b[0;34m:\u001b[0m\u001b[0;34m]\u001b[0m \u001b[0;34m+=\u001b[0m \u001b[0malpha\u001b[0m\u001b[0;34m*\u001b[0m\u001b[0mx_tilde\u001b[0m\u001b[0;34m[\u001b[0m\u001b[0mi\u001b[0m\u001b[0;34m]\u001b[0m\u001b[0;34m\u001b[0m\u001b[0m\n\u001b[0m\u001b[1;32m     37\u001b[0m \u001b[0;34m\u001b[0m\u001b[0m\n\u001b[1;32m     38\u001b[0m         \u001b[0mw_sum\u001b[0m \u001b[0;34m=\u001b[0m \u001b[0mnp\u001b[0m\u001b[0;34m.\u001b[0m\u001b[0msum\u001b[0m\u001b[0;34m(\u001b[0m\u001b[0mw\u001b[0m\u001b[0;34m,\u001b[0m \u001b[0maxis\u001b[0m \u001b[0;34m=\u001b[0m \u001b[0;36m0\u001b[0m\u001b[0;34m)\u001b[0m\u001b[0;34m\u001b[0m\u001b[0m\n",
      "\u001b[0;31mTypeError\u001b[0m: ufunc 'add' output (typecode 'O') could not be coerced to provided output parameter (typecode 'd') according to the casting rule ''same_kind''"
     ]
    }
   ],
   "source": [
    "# Load dataset\n",
    "base_data_dir = \"../../data\"\n",
    "train_path = os.path.join(base_data_dir, 'online_sex_work_clean.pkl')\n",
    "x, x_tilde, z = load_dataset(train_path)\n",
    "\n",
    "# randomly assign data to clusters\n",
    "m, n = x.shape\n",
    "assignments = [np.random.randint(0, K) for i in range(m)] # of size m\n",
    "mu, sigma = [None] * K, [None] * K\n",
    "for i in range(K):\n",
    "    x_vals = np.array([x[j, :] for j in range(len(x)) if assignments[j] == i])\n",
    "    mu[i] = np.mean(x_vals, axis = 0)\n",
    "    sigma[i] = np.cov(x_vals.T.astype(float))\n",
    "    \n",
    "# initialize phi\n",
    "phi = np.ones((K,))/K\n",
    "# initialize w\n",
    "w = np.ones((m, K))/K\n",
    "\n",
    "# run the SSEM algorithm\n",
    "w = run_semi_supervised_em(x, x_tilde, z, w, phi, mu, sigma)"
   ]
  },
  {
   "cell_type": "code",
   "execution_count": null,
   "metadata": {},
   "outputs": [],
   "source": []
  }
 ],
 "metadata": {
  "kernelspec": {
   "display_name": "Python 3",
   "language": "python",
   "name": "python3"
  },
  "language_info": {
   "codemirror_mode": {
    "name": "ipython",
    "version": 3
   },
   "file_extension": ".py",
   "mimetype": "text/x-python",
   "name": "python",
   "nbconvert_exporter": "python",
   "pygments_lexer": "ipython3",
   "version": "3.6.5"
  }
 },
 "nbformat": 4,
 "nbformat_minor": 2
}
