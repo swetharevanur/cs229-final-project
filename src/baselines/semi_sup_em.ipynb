{
 "cells": [
  {
   "cell_type": "markdown",
   "metadata": {},
   "source": [
    "# Semi-Supervised EM Algorithm to Cluster Social Network \n",
    "### By Swetha Revanur and Keanu Spies\n",
    "\n",
    "In this notebook we present a semi-supervised EM approach that aims to cluster posts from a social network into high risk and low risk for being drawn into sex work."
   ]
  },
  {
   "cell_type": "code",
   "execution_count": 3,
   "metadata": {},
   "outputs": [],
   "source": [
    "import matplotlib.pyplot as plt\n",
    "import numpy as np\n",
    "import os\n",
    "import pickle\n",
    "import pandas\n",
    "\n",
    "np.random.seed(648)\n",
    "\n",
    "K = 2           # Number of Gaussians in the mixture model\n",
    "NUM_TRIALS = 3  # Number of trials to run (can be adjusted for debugging)\n",
    "UNLABELED = -1  # Cluster label for unlabeled data points (do not change)"
   ]
  },
  {
   "cell_type": "markdown",
   "metadata": {},
   "source": [
    "## Setup and Helpers"
   ]
  },
  {
   "cell_type": "code",
   "execution_count": 4,
   "metadata": {},
   "outputs": [],
   "source": [
    "# TODO: extract dataset\n",
    "def load_dataset(path):\n",
    "    df = pickle.load(path)\n",
    "    df.drop('friends_id_list')\n",
    "    \n",
    "    labeled_df = df[df['risk'] != None]\n",
    "    unlabeled_df = df[df['risk'] == None]\n",
    "    \n",
    "    y_tilde = labeled_df['risk'].values\n",
    "    \n",
    "    labeled_df.drop('risk')\n",
    "    unlabeled_df.drop('risk')\n",
    "    \n",
    "    X_tilde = labeled_df.values\n",
    "    X = unlabeled_df.values\n",
    "    return X, X_tilde, y_tilde\n",
    "\n",
    "def plot_gmm_preds(x, z, with_supervision, plot_id):\n",
    "    pass\n",
    "\n",
    "# The gaussian PDF helper\n",
    "def gaussian(x, phi, mu, sigma, n):\n",
    "    det = (np.sqrt(np.linalg.det(sigma))*(2*np.pi)**(n/2))\n",
    "    expon = np.exp(-0.5*(x - mu).T.dot(np.linalg.inv(sigma)).dot(x - mu))\n",
    "    return (expon/det)*phi\n",
    "\n",
    "base_data_dir = \"../../data\"\n",
    "train_path = os.path.join(base_data_dir, 'online_sex_work_clean.pkl')\n",
    "x, x_tilde, z = load_gmm_dataset(train_path)\n",
    "\n",
    "print(z)"
   ]
  },
  {
   "cell_type": "markdown",
   "metadata": {},
   "source": [
    "## Semi-Supervised EM Algorithm"
   ]
  },
  {
   "cell_type": "code",
   "execution_count": null,
   "metadata": {},
   "outputs": [],
   "source": [
    "def run_semi_supervised_em(x, x_tilde, z, w, phi, mu, sigma):\n",
    "    \n",
    "    alpha = 20.  # Weight for the labeled examples\n",
    "    eps = 1e-3   # Convergence threshold\n",
    "    max_iter = 1000\n",
    "    it = 0\n",
    "    ll = prev_ll = None\n",
    "    \n",
    "    m, n = x.shape\n",
    "    mt, nt = x_tilde.shape\n",
    "    \n",
    "    while it < max_iter and (prev_ll is None or np.abs(ll - prev_ll) >= eps):\n",
    "        prev_ll = ll\n",
    "        # (1) E-step: Update your estimates in w\n",
    "        for i in range(m):\n",
    "            sum_ = sum(gaussian(x[i], phi[l], mu[l], sigma[l], n) for l in range(K))\n",
    "            for j in range(K):\n",
    "                w[i][j] = gaussian(x[i], phi[j], mu[j], sigma[j], n)/sum_\n",
    "\n",
    "        # (2) M-step: Update the model parameters phi, mu, and sigma\n",
    "        sum_zit = np.zeros(K)\n",
    "        for j in range(K):\n",
    "            for i in range(mt):\n",
    "                if z[i] == j:\n",
    "                    sum_zit[j] += alpha\n",
    "\n",
    "        mu_tilde_num = np.zeros((K, n))\n",
    "        for j in range(K):\n",
    "            for i in range(mt):\n",
    "                if z[i] == j:\n",
    "                    mu_tilde_num[j, :] += alpha*x_tilde[i]\n",
    "                    \n",
    "        w_sum = np.sum(w, axis = 0)\n",
    "        w_z_sum = w_sum + sum_zit\n",
    "\n",
    "        mu = ((np.matmul(x.T, w) + mu_tilde_num.T)/w_z_sum).T\n",
    "        phi = w_z_sum/(m + alpha*mt)\n",
    "        sum_ =  w_sum + sum_zit\n",
    "        \n",
    "        for j in range(K):\n",
    "            inner_sum = np.zeros_like(sigma[0])\n",
    "            for i in range(m):\n",
    "                inner_sum += w[i][j]*np.outer(x[i] - mu[j], x[i] - mu[j])\n",
    "            for i in range(mt):\n",
    "                if z[i] == j:\n",
    "                    inner_sum += alpha*np.outer(x_tilde[i] - mu[j], x_tilde[i] - mu[j])\n",
    "            sigma[j] = inner_sum/w_z_sum[j]\n",
    "\n",
    "        # (3) Compute the log-likelihood of the data to check for convergence.\n",
    "        ll = 0\n",
    "        for i in range(m):\n",
    "            inner_sum = 0\n",
    "            for j in range(K):\n",
    "                inner_sum += gaussian(x[i], phi[j], mu[j], sigma[j], n)\n",
    "            ll += np.log(inner_sum)\n",
    "\n",
    "        if it % 10 == 0: print(ll, it)\n",
    "        it += 1\n",
    "    print(\"It: %d\"%it)\n",
    "    return w"
   ]
  },
  {
   "cell_type": "markdown",
   "metadata": {},
   "source": [
    "## Run SSEM"
   ]
  },
  {
   "cell_type": "code",
   "execution_count": null,
   "metadata": {},
   "outputs": [],
   "source": [
    "# Load dataset\n",
    "base_data_dir = \"../../data\"\n",
    "train_path = os.path.join(base_data_dir, 'online_sex_work_clean.pkl')\n",
    "x, x_tilde, z = load_gmm_dataset(train_path)\n",
    "\n",
    "# randomly assign data to clusters\n",
    "m, n = x.shape\n",
    "indices = np.random.randint(0, m, m).reshape((int(m/K), K))\n",
    "x_val = x[indices]\n",
    "mu = np.mean(x_val, axis = 0)\n",
    "sigma = np.array([np.cov(x_val[:, i, :].T) for i in range(K)])\n",
    "    \n",
    "# initialize phi\n",
    "phi = np.ones((K,))/K\n",
    "# initialize w\n",
    "w = np.ones((m, K))/K\n",
    "\n",
    "# run the SSEM algorithm\n",
    "w = run_semi_supervised_em(x, x_tilde, z, w, phi, mu, sigma)"
   ]
  }
 ],
 "metadata": {
  "kernelspec": {
   "display_name": "Python 3",
   "language": "python",
   "name": "python3"
  },
  "language_info": {
   "codemirror_mode": {
    "name": "ipython",
    "version": 3
   },
   "file_extension": ".py",
   "mimetype": "text/x-python",
   "name": "python",
   "nbconvert_exporter": "python",
   "pygments_lexer": "ipython3",
   "version": "3.6.5"
  }
 },
 "nbformat": 4,
 "nbformat_minor": 2
}
