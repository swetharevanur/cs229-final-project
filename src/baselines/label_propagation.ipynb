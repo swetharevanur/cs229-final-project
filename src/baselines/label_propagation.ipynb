{
 "cells": [
  {
   "cell_type": "code",
   "execution_count": 47,
   "metadata": {
    "collapsed": false
   },
   "outputs": [],
   "source": [
    "import pandas as pd\n",
    "import numpy as np\n",
    "import os\n",
    "import copy\n",
    "from sklearn import semi_supervised\n",
    "\n",
    "import warnings\n",
    "warnings.filterwarnings('ignore')"
   ]
  },
  {
   "cell_type": "markdown",
   "metadata": {},
   "source": [
    "## Setup and Helpers"
   ]
  },
  {
   "cell_type": "code",
   "execution_count": 49,
   "metadata": {
    "collapsed": false
   },
   "outputs": [],
   "source": [
    "def load_dataset(path):\n",
    "    df = pd.read_pickle(path)\n",
    "    \n",
    "    # list of friends cannot be handeled by em algorithm\n",
    "    df = df.drop('friends_id_list', axis = 1)\n",
    "    \n",
    "    # seperate out labeled and unlabeled data\n",
    "    labeled_df = df[df['risk'].notnull()]\n",
    "    unlabeled_df = df[df['risk'].isnull()]\n",
    "    \n",
    "    df = df.drop('risk', axis = 1)\n",
    "    \n",
    "    # labels\n",
    "    y_tilde = list(labeled_df['risk'].values)\n",
    "    y = list([-1]* len(unlabeled_df['risk'].values))\n",
    "    labels = copy.deepcopy(y_tilde)\n",
    "    labels.extend(y)\n",
    "    \n",
    "    # extract datasets \n",
    "    labeled_df = labeled_df.drop('risk', axis = 1)\n",
    "    unlabeled_df = unlabeled_df.drop('risk', axis = 1)\n",
    "    X_tilde = labeled_df.values\n",
    "    X = unlabeled_df.values\n",
    "    \n",
    "    return X_tilde, np.array(y_tilde), X, df, np.array(labels) \n",
    "\n",
    "X_tilde, y_tilde, X, df, labels = load_dataset(os.path.join(base_data_dir, 'online_sex_work_clean.pkl'))"
   ]
  },
  {
   "cell_type": "code",
   "execution_count": 85,
   "metadata": {
    "collapsed": false
   },
   "outputs": [
    {
     "name": "stdout",
     "output_type": "stream",
     "text": [
      "knn // gamma: 5,  y_labeled_scores: 0.9777777777777777, n_neighbors: 1\n",
      "knn // gamma: 5,  y_labeled_scores: 0.7888888888888889, n_neighbors: 2\n",
      "knn // gamma: 5,  y_labeled_scores: 0.7333333333333333, n_neighbors: 3\n",
      "knn // gamma: 5,  y_labeled_scores: 0.7111111111111111, n_neighbors: 4\n",
      "knn // gamma: 5,  y_labeled_scores: 0.7666666666666667, n_neighbors: 5\n",
      "knn // gamma: 5,  y_labeled_scores: 0.7333333333333333, n_neighbors: 6\n",
      "knn // gamma: 5,  y_labeled_scores: 0.7, n_neighbors: 7\n",
      "knn // gamma: 5,  y_labeled_scores: 0.7, n_neighbors: 8\n",
      "knn // gamma: 5,  y_labeled_scores: 0.6888888888888889, n_neighbors: 9\n"
     ]
    }
   ],
   "source": [
    "running_best_model = None\n",
    "running_best_score = 0\n",
    "for kernel in ['knn']:\n",
    "    for n_neighbors in [1, 2, 3, 4, 5, 6, 7, 8, 9]:\n",
    "        label_prop_model = semi_supervised.LabelPropagation(kernel = kernel, n_neighbors = n_neighbors)\n",
    "        label_prop_model.fit(df.values, labels)\n",
    "        y_labeled_preds = label_prop_model.predict(X_tilde)\n",
    "        y_labeled_score = label_prop_model.score(X_tilde, y_tilde)\n",
    "        if y_labeled_score > running_best_score:\n",
    "            running_best_model = label_prop_model\n",
    "            running_best_score = y_labeled_score\n",
    "        print(kernel, '// gamma: %s, ' % gamma, 'y_labeled_scores: %s,' % y_labeled_score, \n",
    "              'n_neighbors: %s' % n_neighbors)"
   ]
  },
  {
   "cell_type": "code",
   "execution_count": 84,
   "metadata": {
    "collapsed": false
   },
   "outputs": [
    {
     "data": {
      "text/plain": [
       "LabelPropagation(alpha=1, gamma=20, kernel='knn', max_iter=30, n_neighbors=1,\n",
       "         tol=0.001)"
      ]
     },
     "execution_count": 84,
     "metadata": {},
     "output_type": "execute_result"
    }
   ],
   "source": [
    "running_best_model"
   ]
  },
  {
   "cell_type": "code",
   "execution_count": 61,
   "metadata": {
    "collapsed": false
   },
   "outputs": [],
   "source": [
    "y_labeled_scores = label_prop_model.score(X_tilde, y_tilde)"
   ]
  },
  {
   "cell_type": "code",
   "execution_count": 72,
   "metadata": {
    "collapsed": false
   },
   "outputs": [
    {
     "data": {
      "text/plain": [
       "LabelPropagation(alpha=1, gamma=5, kernel='knn', max_iter=30, n_neighbors=7,\n",
       "         tol=0.001)"
      ]
     },
     "execution_count": 72,
     "metadata": {},
     "output_type": "execute_result"
    }
   ],
   "source": [
    "label_prop_model"
   ]
  },
  {
   "cell_type": "code",
   "execution_count": 63,
   "metadata": {
    "collapsed": false
   },
   "outputs": [
    {
     "name": "stdout",
     "output_type": "stream",
     "text": [
      "[0. 0. 0. 0. 0. 0. 0. 0. 0. 0. 0. 0. 0. 0. 0. 0. 0. 0. 0. 0. 0. 0. 0. 0.\n",
      " 0. 0. 0. 0. 0. 0. 0. 0. 0. 0. 0. 0. 0. 0. 0. 0. 0. 0. 0. 0. 0. 0. 0. 0.\n",
      " 0. 0. 0. 0. 0. 0. 0. 0. 0. 1. 1. 1. 1. 1. 1. 1. 1. 1. 1. 1. 1. 1. 1. 1.\n",
      " 1. 1. 1. 1. 1. 1. 1. 1. 1. 1. 1. 1. 1. 1. 1. 1. 1. 1.]\n",
      "[1. 0. 0. 0. 1. 0. 1. 1. 0. 1. 0. 0. 1. 1. 0. 1. 0. 0. 0. 0. 0. 0. 0. 1.\n",
      " 0. 0. 0. 0. 1. 0. 0. 1. 0. 0. 0. 0. 0. 0. 0. 0. 0. 0. 0. 1. 0. 0. 0. 0.\n",
      " 0. 0. 0. 0. 0. 0. 0. 0. 0. 1. 1. 0. 1. 0. 0. 1. 0. 1. 0. 1. 0. 0. 1. 0.\n",
      " 1. 0. 0. 1. 1. 0. 1. 1. 1. 1. 1. 1. 0. 0. 1. 1. 0. 0.]\n"
     ]
    }
   ],
   "source": [
    "print(y_tilde)\n",
    "print(y_labeled_preds)"
   ]
  },
  {
   "cell_type": "code",
   "execution_count": null,
   "metadata": {
    "collapsed": true
   },
   "outputs": [],
   "source": []
  }
 ],
 "metadata": {
  "anaconda-cloud": {},
  "kernelspec": {
   "display_name": "Python [default]",
   "language": "python",
   "name": "python3"
  },
  "language_info": {
   "codemirror_mode": {
    "name": "ipython",
    "version": 3
   },
   "file_extension": ".py",
   "mimetype": "text/x-python",
   "name": "python",
   "nbconvert_exporter": "python",
   "pygments_lexer": "ipython3",
   "version": "3.5.2"
  }
 },
 "nbformat": 4,
 "nbformat_minor": 1
}
