{
 "cells": [
  {
   "cell_type": "code",
   "execution_count": 1,
   "metadata": {},
   "outputs": [],
   "source": [
    "import numpy as np\n",
    "import os\n",
    "import string\n",
    "import pickle\n",
    "\n",
    "BASE_DIR = '../data/'"
   ]
  },
  {
   "cell_type": "code",
   "execution_count": 12,
   "metadata": {},
   "outputs": [
    {
     "name": "stdout",
     "output_type": "stream",
     "text": [
      "5831\n"
     ]
    }
   ],
   "source": [
    "# collect all img, text\n",
    "data_all = set()\n",
    "for class_name in os.listdir(BASE_DIR):\n",
    "    img_dir = os.path.join(BASE_DIR, class_name, 'images/')\n",
    "    text_dir = os.path.join(BASE_DIR, class_name, 'text/')\n",
    "    if os.path.isdir(text_dir):\n",
    "        for text_name in os.listdir(text_dir):\n",
    "            text_file = os.path.join(BASE_DIR, class_name, 'text/', text_name)\n",
    "            image_file = os.path.join(BASE_DIR, class_name, 'images/', text_name[:-4] + '.jpg')\n",
    "            data_all.add((text_file, image_file))\n",
    "print(len(data_all))\n",
    "\n",
    "# Train --> 3499 (< 3499)\n",
    "# Test --> 1166 (< 4665)\n",
    "# Val --> 1166\n",
    "\n",
    "iteri = 0\n",
    "for text_file, image_file in data_all:\n",
    "    text_vec = text_file.split('/')\n",
    "    img_vec = image_file.split('/')\n",
    "    # extract names\n",
    "    class_name = text_vec[2]\n",
    "    text_file_name = text_vec[-1]\n",
    "    img_file_name = img_vec[-1]\n",
    "    # train, val, text splits\n",
    "    if iteri < 3499:\n",
    "        group = 'train'\n",
    "    elif iteri < 4665: \n",
    "        group = 'val'\n",
    "    else:\n",
    "        group = 'test'\n",
    "    \n",
    "    # move file to new location\n",
    "    new_text_file = os.path.join(BASE_DIR, 'text_data', group, class_name, text_file_name)\n",
    "    new_img_file = os.path.join(BASE_DIR, 'img_data', group, class_name, img_file_name)\n",
    "    os.rename(text_file, new_text_file)\n",
    "    os.rename(image_file, new_img_file)\n",
    "    iteri += 1      "
   ]
  },
  {
   "cell_type": "code",
   "execution_count": null,
   "metadata": {},
   "outputs": [],
   "source": []
  }
 ],
 "metadata": {
  "anaconda-cloud": {},
  "kernelspec": {
   "display_name": "Python 3",
   "language": "python",
   "name": "python3"
  },
  "language_info": {
   "codemirror_mode": {
    "name": "ipython",
    "version": 3
   },
   "file_extension": ".py",
   "mimetype": "text/x-python",
   "name": "python",
   "nbconvert_exporter": "python",
   "pygments_lexer": "ipython3",
   "version": "3.6.5"
  }
 },
 "nbformat": 4,
 "nbformat_minor": 1
}
